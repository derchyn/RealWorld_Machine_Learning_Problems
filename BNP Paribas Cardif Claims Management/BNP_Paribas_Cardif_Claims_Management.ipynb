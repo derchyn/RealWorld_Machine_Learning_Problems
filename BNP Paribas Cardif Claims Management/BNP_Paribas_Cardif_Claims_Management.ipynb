{
 "cells": [
  {
   "cell_type": "code",
   "execution_count": 1,
   "metadata": {
    "collapsed": true
   },
   "outputs": [],
   "source": [
    "import warnings\n",
    "warnings.filterwarnings('ignore')\n",
    "\n",
    "import random\n",
    "import numpy as np\n",
    "import pandas as pd\n",
    "from sklearn import preprocessing\n",
    "\n",
    "import seaborn as sns\n",
    "import matplotlib.pyplot as plt\n",
    "%matplotlib inline"
   ]
  },
  {
   "cell_type": "code",
   "execution_count": 2,
   "metadata": {
    "collapsed": true
   },
   "outputs": [],
   "source": [
    "# reading the data\n",
    "train = pd.read_csv(\"datasets/train.csv\")\n",
    "test = pd.read_csv(\"datasets/test.csv\")"
   ]
  },
  {
   "cell_type": "code",
   "execution_count": 3,
   "metadata": {},
   "outputs": [
    {
     "data": {
      "text/html": [
       "<div>\n",
       "<style>\n",
       "    .dataframe thead tr:only-child th {\n",
       "        text-align: right;\n",
       "    }\n",
       "\n",
       "    .dataframe thead th {\n",
       "        text-align: left;\n",
       "    }\n",
       "\n",
       "    .dataframe tbody tr th {\n",
       "        vertical-align: top;\n",
       "    }\n",
       "</style>\n",
       "<table border=\"1\" class=\"dataframe\">\n",
       "  <thead>\n",
       "    <tr style=\"text-align: right;\">\n",
       "      <th></th>\n",
       "      <th>ID</th>\n",
       "      <th>target</th>\n",
       "      <th>v1</th>\n",
       "      <th>v2</th>\n",
       "      <th>v3</th>\n",
       "      <th>v4</th>\n",
       "      <th>v5</th>\n",
       "      <th>v6</th>\n",
       "      <th>v7</th>\n",
       "      <th>v8</th>\n",
       "      <th>...</th>\n",
       "      <th>v122</th>\n",
       "      <th>v123</th>\n",
       "      <th>v124</th>\n",
       "      <th>v125</th>\n",
       "      <th>v126</th>\n",
       "      <th>v127</th>\n",
       "      <th>v128</th>\n",
       "      <th>v129</th>\n",
       "      <th>v130</th>\n",
       "      <th>v131</th>\n",
       "    </tr>\n",
       "  </thead>\n",
       "  <tbody>\n",
       "    <tr>\n",
       "      <th>0</th>\n",
       "      <td>3</td>\n",
       "      <td>1</td>\n",
       "      <td>1.335739</td>\n",
       "      <td>8.727474</td>\n",
       "      <td>C</td>\n",
       "      <td>3.921026</td>\n",
       "      <td>7.915266</td>\n",
       "      <td>2.599278</td>\n",
       "      <td>3.176895</td>\n",
       "      <td>0.012941</td>\n",
       "      <td>...</td>\n",
       "      <td>8.000000</td>\n",
       "      <td>1.989780</td>\n",
       "      <td>0.035754</td>\n",
       "      <td>AU</td>\n",
       "      <td>1.804126</td>\n",
       "      <td>3.113719</td>\n",
       "      <td>2.024285</td>\n",
       "      <td>0</td>\n",
       "      <td>0.636365</td>\n",
       "      <td>2.857144</td>\n",
       "    </tr>\n",
       "    <tr>\n",
       "      <th>1</th>\n",
       "      <td>4</td>\n",
       "      <td>1</td>\n",
       "      <td>NaN</td>\n",
       "      <td>NaN</td>\n",
       "      <td>C</td>\n",
       "      <td>NaN</td>\n",
       "      <td>9.191265</td>\n",
       "      <td>NaN</td>\n",
       "      <td>NaN</td>\n",
       "      <td>2.301630</td>\n",
       "      <td>...</td>\n",
       "      <td>NaN</td>\n",
       "      <td>NaN</td>\n",
       "      <td>0.598896</td>\n",
       "      <td>AF</td>\n",
       "      <td>NaN</td>\n",
       "      <td>NaN</td>\n",
       "      <td>1.957825</td>\n",
       "      <td>0</td>\n",
       "      <td>NaN</td>\n",
       "      <td>NaN</td>\n",
       "    </tr>\n",
       "    <tr>\n",
       "      <th>2</th>\n",
       "      <td>5</td>\n",
       "      <td>1</td>\n",
       "      <td>0.943877</td>\n",
       "      <td>5.310079</td>\n",
       "      <td>C</td>\n",
       "      <td>4.410969</td>\n",
       "      <td>5.326159</td>\n",
       "      <td>3.979592</td>\n",
       "      <td>3.928571</td>\n",
       "      <td>0.019645</td>\n",
       "      <td>...</td>\n",
       "      <td>9.333333</td>\n",
       "      <td>2.477596</td>\n",
       "      <td>0.013452</td>\n",
       "      <td>AE</td>\n",
       "      <td>1.773709</td>\n",
       "      <td>3.922193</td>\n",
       "      <td>1.120468</td>\n",
       "      <td>2</td>\n",
       "      <td>0.883118</td>\n",
       "      <td>1.176472</td>\n",
       "    </tr>\n",
       "    <tr>\n",
       "      <th>3</th>\n",
       "      <td>6</td>\n",
       "      <td>1</td>\n",
       "      <td>0.797415</td>\n",
       "      <td>8.304757</td>\n",
       "      <td>C</td>\n",
       "      <td>4.225930</td>\n",
       "      <td>11.627438</td>\n",
       "      <td>2.097700</td>\n",
       "      <td>1.987549</td>\n",
       "      <td>0.171947</td>\n",
       "      <td>...</td>\n",
       "      <td>7.018256</td>\n",
       "      <td>1.812795</td>\n",
       "      <td>0.002267</td>\n",
       "      <td>CJ</td>\n",
       "      <td>1.415230</td>\n",
       "      <td>2.954381</td>\n",
       "      <td>1.990847</td>\n",
       "      <td>1</td>\n",
       "      <td>1.677108</td>\n",
       "      <td>1.034483</td>\n",
       "    </tr>\n",
       "    <tr>\n",
       "      <th>4</th>\n",
       "      <td>8</td>\n",
       "      <td>1</td>\n",
       "      <td>NaN</td>\n",
       "      <td>NaN</td>\n",
       "      <td>C</td>\n",
       "      <td>NaN</td>\n",
       "      <td>NaN</td>\n",
       "      <td>NaN</td>\n",
       "      <td>NaN</td>\n",
       "      <td>NaN</td>\n",
       "      <td>...</td>\n",
       "      <td>NaN</td>\n",
       "      <td>NaN</td>\n",
       "      <td>NaN</td>\n",
       "      <td>Z</td>\n",
       "      <td>NaN</td>\n",
       "      <td>NaN</td>\n",
       "      <td>NaN</td>\n",
       "      <td>0</td>\n",
       "      <td>NaN</td>\n",
       "      <td>NaN</td>\n",
       "    </tr>\n",
       "  </tbody>\n",
       "</table>\n",
       "<p>5 rows × 133 columns</p>\n",
       "</div>"
      ],
      "text/plain": [
       "   ID  target        v1        v2 v3        v4         v5        v6        v7  \\\n",
       "0   3       1  1.335739  8.727474  C  3.921026   7.915266  2.599278  3.176895   \n",
       "1   4       1       NaN       NaN  C       NaN   9.191265       NaN       NaN   \n",
       "2   5       1  0.943877  5.310079  C  4.410969   5.326159  3.979592  3.928571   \n",
       "3   6       1  0.797415  8.304757  C  4.225930  11.627438  2.097700  1.987549   \n",
       "4   8       1       NaN       NaN  C       NaN        NaN       NaN       NaN   \n",
       "\n",
       "         v8    ...         v122      v123      v124  v125      v126      v127  \\\n",
       "0  0.012941    ...     8.000000  1.989780  0.035754    AU  1.804126  3.113719   \n",
       "1  2.301630    ...          NaN       NaN  0.598896    AF       NaN       NaN   \n",
       "2  0.019645    ...     9.333333  2.477596  0.013452    AE  1.773709  3.922193   \n",
       "3  0.171947    ...     7.018256  1.812795  0.002267    CJ  1.415230  2.954381   \n",
       "4       NaN    ...          NaN       NaN       NaN     Z       NaN       NaN   \n",
       "\n",
       "       v128  v129      v130      v131  \n",
       "0  2.024285     0  0.636365  2.857144  \n",
       "1  1.957825     0       NaN       NaN  \n",
       "2  1.120468     2  0.883118  1.176472  \n",
       "3  1.990847     1  1.677108  1.034483  \n",
       "4       NaN     0       NaN       NaN  \n",
       "\n",
       "[5 rows x 133 columns]"
      ]
     },
     "execution_count": 3,
     "metadata": {},
     "output_type": "execute_result"
    }
   ],
   "source": [
    "train.head()"
   ]
  },
  {
   "cell_type": "markdown",
   "metadata": {},
   "source": [
    "## Data Analysis"
   ]
  },
  {
   "cell_type": "code",
   "execution_count": 4,
   "metadata": {},
   "outputs": [
    {
     "data": {
      "text/plain": [
       "<matplotlib.axes._subplots.AxesSubplot at 0xb84cbe0>"
      ]
     },
     "execution_count": 4,
     "metadata": {},
     "output_type": "execute_result"
    },
    {
     "data": {
      "image/png": "[encoded data removed]",
      "text/plain": [
       "<matplotlib.figure.Figure at 0xb449748>"
      ]
     },
     "metadata": {},
     "output_type": "display_data"
    }
   ],
   "source": [
    "# target varibale \n",
    "train.target.value_counts().plot.bar()"
   ]
  },
  {
   "cell_type": "code",
   "execution_count": 5,
   "metadata": {},
   "outputs": [
    {
     "data": {
      "text/plain": [
       "0.007518796992481203"
      ]
     },
     "execution_count": 5,
     "metadata": {},
     "output_type": "execute_result"
    }
   ],
   "source": [
    "# percantage of null values\n",
    "float(len(train[pd.isnull(train)]))/float((train.shape[1])*train.shape[0])"
   ]
  },
  {
   "cell_type": "code",
   "execution_count": 6,
   "metadata": {},
   "outputs": [
    {
     "data": {
      "text/plain": [
       "<matplotlib.axes._subplots.AxesSubplot at 0xb9496d8>"
      ]
     },
     "execution_count": 6,
     "metadata": {},
     "output_type": "execute_result"
    },
    {
     "data": {
      "image/png": "[encoded data removed]",
      "text/plain": [
       "<matplotlib.figure.Figure at 0xb931dd8>"
      ]
     },
     "metadata": {},
     "output_type": "display_data"
    }
   ],
   "source": [
    "# null value percantages\n",
    "nullvalues=[float((train[col].isnull().sum()))/len(train[col]) for col in train.columns.values]\n",
    "percentagenull=list(zip(train.columns.values,nullvalues))\n",
    "nullplot=pd.DataFrame(data=percentagenull,columns=[\"varname\",\"percantage_null\"])\n",
    "nullplot=nullplot.set_index(\"varname\")\n",
    "nullplot.plot.bar(figsize =(23,5),title=\"percentage of null values per feature\")"
   ]
  },
  {
   "cell_type": "code",
   "execution_count": 7,
   "metadata": {},
   "outputs": [
    {
     "data": {
      "text/plain": [
       "0"
      ]
     },
     "execution_count": 7,
     "metadata": {},
     "output_type": "execute_result"
    }
   ],
   "source": [
    "# duplicate row in train set\n",
    "train.shape[0]-train.drop_duplicates().shape[0]"
   ]
  },
  {
   "cell_type": "code",
   "execution_count": 8,
   "metadata": {},
   "outputs": [
    {
     "name": "stdout",
     "output_type": "stream",
     "text": [
      "constent features count = 0 \n"
     ]
    },
    {
     "data": {
      "text/html": [
       "<div>\n",
       "<style>\n",
       "    .dataframe thead tr:only-child th {\n",
       "        text-align: right;\n",
       "    }\n",
       "\n",
       "    .dataframe thead th {\n",
       "        text-align: left;\n",
       "    }\n",
       "\n",
       "    .dataframe tbody tr th {\n",
       "        vertical-align: top;\n",
       "    }\n",
       "</style>\n",
       "<table border=\"1\" class=\"dataframe\">\n",
       "  <thead>\n",
       "    <tr style=\"text-align: right;\">\n",
       "      <th></th>\n",
       "      <th>var</th>\n",
       "      <th>unique_count</th>\n",
       "    </tr>\n",
       "  </thead>\n",
       "  <tbody>\n",
       "    <tr>\n",
       "      <th>0</th>\n",
       "      <td>ID</td>\n",
       "      <td>114321</td>\n",
       "    </tr>\n",
       "    <tr>\n",
       "      <th>1</th>\n",
       "      <td>target</td>\n",
       "      <td>2</td>\n",
       "    </tr>\n",
       "    <tr>\n",
       "      <th>2</th>\n",
       "      <td>v1</td>\n",
       "      <td>64487</td>\n",
       "    </tr>\n",
       "    <tr>\n",
       "      <th>3</th>\n",
       "      <td>v2</td>\n",
       "      <td>64524</td>\n",
       "    </tr>\n",
       "    <tr>\n",
       "      <th>4</th>\n",
       "      <td>v3</td>\n",
       "      <td>3</td>\n",
       "    </tr>\n",
       "  </tbody>\n",
       "</table>\n",
       "</div>"
      ],
      "text/plain": [
       "      var  unique_count\n",
       "0      ID        114321\n",
       "1  target             2\n",
       "2      v1         64487\n",
       "3      v2         64524\n",
       "4      v3             3"
      ]
     },
     "execution_count": 8,
     "metadata": {},
     "output_type": "execute_result"
    }
   ],
   "source": [
    "# constent feature count\n",
    "uniquecount=[train[col].nunique() for col in train.columns.values]\n",
    "uniquecount=pd.DataFrame(data=list(zip(train.columns.values,uniquecount)),columns=[\"var\",\"unique_count\"])\n",
    "unique_count=uniquecount[uniquecount.unique_count==1]\n",
    "\n",
    "print(\"constent features count = {} \".format(unique_count.shape[0]))\n",
    "uniquecount.head()"
   ]
  },
  {
   "cell_type": "code",
   "execution_count": 9,
   "metadata": {},
   "outputs": [
    {
     "name": "stdout",
     "output_type": "stream",
     "text": [
      "Numerical column count : 114\n",
      "Character column count : 19\n"
     ]
    }
   ],
   "source": [
    "# seprating numeric and charcter features\n",
    "train_numr =train.select_dtypes(include=[np.number])\n",
    "train_char =train.select_dtypes(include=[np.object])\n",
    "print(\"Numerical column count : {}\".format(train_numr.shape[1]))\n",
    "print(\"Character column count : {}\".format(train_char.shape[1]))"
   ]
  },
  {
   "cell_type": "code",
   "execution_count": 10,
   "metadata": {},
   "outputs": [
    {
     "name": "stdout",
     "output_type": "stream",
     "text": [
      "v3 : ['C' nan 'A' 'B']\n",
      "v22 : ['XDX' 'GUV' 'FQ' 'ACUE' 'HIT' 'AYX' 'NFD' 'AHBW' 'GKQ' 'PYF']\n",
      "v24 : ['C' 'E' 'D' 'A' 'B']\n",
      "v30 : ['C' nan 'G' 'D' 'B' 'F' 'A' 'E']\n",
      "v31 : ['A' 'B' nan 'C']\n",
      "v47 : ['C' 'E' 'I' 'D' 'F' 'G' 'J' 'B' 'A' 'H']\n",
      "v52 : ['G' 'F' 'H' 'K' 'A' 'C' 'E' 'J' 'D' 'I']\n",
      "v56 : ['DI' 'DY' 'AS' 'BW' nan 'DX' 'DP' 'AF' 'CY' 'AW']\n",
      "v66 : ['C' 'A' 'B']\n",
      "v71 : ['F' 'B' 'C' 'L' 'I' 'A' 'G' 'K' 'D']\n",
      "v74 : ['B' 'C' 'A']\n",
      "v75 : ['D' 'B' 'C' 'A']\n",
      "v79 : ['E' 'D' 'B' 'C' 'I' 'P' 'A' 'O' 'K' 'M']\n",
      "v91 : ['A' 'B' 'G' 'C' 'F' 'E' 'D' nan]\n",
      "v107 : ['E' 'B' 'C' 'D' 'A' 'F' 'G' nan]\n",
      "v110 : ['B' 'A' 'C']\n",
      "v112 : ['O' 'U' 'S' 'J' 'T' 'D' 'I' 'F' 'L' 'M']\n",
      "v113 : [nan 'G' 'X' 'M' 'P' 'S' 'I' 'AC' 'W' 'L']\n",
      "v125 : ['AU' 'AF' 'AE' 'CJ' 'Z' 'X' 'BJ' 'BY' 'S' 'E']\n"
     ]
    }
   ],
   "source": [
    "# looking at charcter features\n",
    "for col in  train_char:\n",
    "    print(col + \" : \"  + str(train_char[col].unique()[:10]))"
   ]
  },
  {
   "cell_type": "code",
   "execution_count": 11,
   "metadata": {},
   "outputs": [
    {
     "data": {
      "text/plain": [
       "<matplotlib.image.AxesImage at 0xbcb87f0>"
      ]
     },
     "execution_count": 11,
     "metadata": {},
     "output_type": "execute_result"
    },
    {
     "data": {
      "image/png": "[encoded data removed]",
      "text/plain": [
       "<matplotlib.figure.Figure at 0xb449898>"
      ]
     },
     "metadata": {},
     "output_type": "display_data"
    }
   ],
   "source": [
    "train_numr_df = train_numr.loc[np.random.choice(train_numr.index, 25000, replace=False)]\n",
    "plt.matshow(train_numr_df.corr())"
   ]
  },
  {
   "cell_type": "code",
   "execution_count": 12,
   "metadata": {
    "collapsed": true
   },
   "outputs": [],
   "source": [
    "# function to convert to hexavigesimal base\n",
    "def az_to_int(az,nanVal=None):\n",
    "    if az==az:  #catch NaN\n",
    "        hv = 0\n",
    "        for i in range(len(az)):\n",
    "            hv += (ord(az[i].lower())-ord('a')+1)*26**(len(az)-1-i)\n",
    "        return hv\n",
    "    else:\n",
    "        if nanVal is not None:\n",
    "            return nanVal\n",
    "        else:\n",
    "            return az"
   ]
  },
  {
   "cell_type": "code",
   "execution_count": 13,
   "metadata": {
    "collapsed": true
   },
   "outputs": [],
   "source": [
    "# combine the data\n",
    "test_df = test.copy()\n",
    "test_df['target'] = -999\n",
    "all_data = train.append(test_df)\n",
    "\n",
    "# convert v22 to hexavigesimal\n",
    "all_data.v22 = all_data.v22.apply(az_to_int)\n",
    "for c in all_data.columns.values:\n",
    "    if all_data[c].dtype=='object':\n",
    "        all_data[c], tmpItter = all_data[c].factorize()\n",
    "\n",
    "# replace all NA's with -1\n",
    "all_data.fillna(-1, inplace=True)\n",
    "\n",
    "# split the data\n",
    "train_df = all_data[all_data['target']>-999]\n",
    "test_df = all_data[all_data['target']==-999]\n",
    "test_df = test_df.drop(['target'],axis=1)"
   ]
  },
  {
   "cell_type": "code",
   "execution_count": 14,
   "metadata": {
    "collapsed": true
   },
   "outputs": [],
   "source": [
    "#plt.rcParams['figure.max_open_warning']=300\n",
    "#nbins=20\n",
    "\n",
    "#featureNames = train_df.columns.values\n",
    "#featureNames = np.delete(featureNames, 0)\n",
    "#for c in  featureNames:\n",
    "#    if train_df[c].dtype != 'object' and c != 'target':\n",
    "#        if c=='v22':\n",
    "#            hbins = 100\n",
    "#        else:\n",
    "#            hbins = nbins\n",
    "#        fig=plt.figure(figsize=(14,4))\n",
    "#        ax1 = fig.add_subplot(1,2,1) \n",
    "        \n",
    "#        dataset1 = train_df[c][~np.isnan(train_df[c])]\n",
    "#        dataset2 = train_df[c][~np.isnan(train_df[c]) & train_df.target]\n",
    "        \n",
    "#        # left plot\n",
    "#        hd = ax1.hist((dataset1, dataset2), bins=hbins, histtype='bar',normed=True,\n",
    "#                        color=[\"blue\", \"red\"],label=['all','target=1'])\n",
    "#        ax1.set_xlabel('Feature: '+c)\n",
    "#        ax1.set_xlim((-1,max(train_df[c])))\n",
    "        \n",
    "#        binwidth = hd[1][1]-hd[1][0]\n",
    "#        midpts = (hd[1][:-1]+hd[1][1:])/2\n",
    "#        cdf_all= np.cumsum(hd[0][0])*binwidth\n",
    "#        cdf_ones = np.cumsum(hd[0][1])*binwidth\n",
    "\n",
    "#        # right plot\n",
    "#        ax2 = fig.add_subplot(1,2,2) \n",
    "#        ax2.set_ylim((0,1))\n",
    "#        ax2.set_xlim((0,nbins))\n",
    "#        ax2.plot(midpts,cdf_all,color='b')\n",
    "#        ax2.plot(midpts,cdf_ones,color='r')\n",
    "#        ax2.plot(midpts,0.5+10*(cdf_all-cdf_ones),color='k')\n",
    "#        ax2.grid()\n",
    "#        ax2.set_xlim((-1,max(train_df[c])))\n",
    "#        ax2.set_xlabel('cdfs plus cdf_diff*10+0.5')\n",
    "#        ax2.axhline(0.5,color='gray',linestyle='--')"
   ]
  },
  {
   "cell_type": "markdown",
   "metadata": {},
   "source": [
    "Histogram plots on the the left:\n",
    "\n",
    "- Blue: All of the train data (normalized)\n",
    "- Red: Train Data where the target variable is one (again normalized)\n",
    "- Na's are -1, so the first column is usually large\n",
    "\n",
    "CDF Plots on the right:\n",
    "\n",
    "- Blue and red as before\n",
    "- Black line is the difference in the CDF's (x10 + 0.5 for visualization)\n",
    "\n",
    "A few interesting insights:\n",
    "\n",
    "- It's easy to see why v50 is such a powerful predictor\n",
    "- Somewhat counterintuitive, most of the features have more NA's when the target is true. This is indicated both by the first red bar on the left being higher than the blue and by the cdf difference line being negative at the start. Perhaps it's the presence of certain information, not the lack of it, that prevents fast-track processing.\n",
    "- With v22 coded in hexavigesimal, there is some large scale structure in the pdf, and possibly some structure in the CDF difference plot"
   ]
  },
  {
   "cell_type": "markdown",
   "metadata": {
    "collapsed": true
   },
   "source": [
    "## Model Building"
   ]
  },
  {
   "cell_type": "code",
   "execution_count": 15,
   "metadata": {
    "collapsed": true
   },
   "outputs": [],
   "source": [
    "import xgboost as xgb\n",
    "from sklearn.feature_extraction import DictVectorizer as DV"
   ]
  },
  {
   "cell_type": "code",
   "execution_count": 16,
   "metadata": {
    "collapsed": true
   },
   "outputs": [],
   "source": [
    "train.drop(['v22'], axis=1, inplace=True)\n",
    "train.drop(['v91'], axis=1, inplace=True)\n",
    "test.drop(['v22'], axis=1, inplace=True)\n",
    "test.drop(['v91'], axis=1, inplace=True)"
   ]
  },
  {
   "cell_type": "code",
   "execution_count": 17,
   "metadata": {
    "collapsed": true
   },
   "outputs": [],
   "source": [
    "def impute_most_freq_value(df,colname):\n",
    "    c = df[colname].value_counts()\n",
    "    return c.index[0]"
   ]
  },
  {
   "cell_type": "code",
   "execution_count": 18,
   "metadata": {
    "collapsed": true
   },
   "outputs": [],
   "source": [
    "cat_cols_df = train.select_dtypes(include=[np.object])\n",
    "cat_cols = cat_cols_df.columns\n",
    "\n",
    "nas = {}\n",
    "for colname in cat_cols:\n",
    "    nas[colname] = impute_most_freq_value(train,colname)\n",
    "\n",
    "for colname in cat_cols:\n",
    "    train[colname].fillna(nas[colname],inplace=True)\n",
    "\n",
    "for colname in cat_cols:\n",
    "    test[colname].fillna(nas[colname],inplace=True)\n",
    "\n",
    "cat_train = train[cat_cols]\n",
    "cat_test = test[cat_cols]"
   ]
  },
  {
   "cell_type": "code",
   "execution_count": 19,
   "metadata": {},
   "outputs": [
    {
     "name": "stdout",
     "output_type": "stream",
     "text": [
      "            v3     v24     v30     v31     v47     v52     v56     v66  \\\n",
      "count   114321  114321  114321  114321  114321  114321  114321  114321   \n",
      "unique       3       5       7       3      10      12     122       3   \n",
      "top          C       E       C       A       C       J      BW       A   \n",
      "freq    114041   55177   92288   91804   55425   11106   18233   70353   \n",
      "\n",
      "           v71     v74     v75     v79    v107    v110    v112    v113    v125  \n",
      "count   114321  114321  114321  114321  114321  114321  114321  114321  114321  \n",
      "unique       9       3       4      18       7       3      22      36      90  \n",
      "top          F       B       D       C       E       A       F       G      BM  \n",
      "freq     75094  113560   75087   34561   27082   55688   22053   71556    5836  \n"
     ]
    }
   ],
   "source": [
    "# put the numerical as matrix\n",
    "train.drop(cat_cols, axis=1, inplace=True)\n",
    "test.drop(cat_cols, axis=1, inplace=True)\n",
    "print(cat_train.describe())"
   ]
  },
  {
   "cell_type": "code",
   "execution_count": 20,
   "metadata": {
    "collapsed": true
   },
   "outputs": [],
   "source": [
    "# transform the categorical to dict\n",
    "dict_train_data = cat_train.T.to_dict().values()\n",
    "dict_test_data = cat_test.T.to_dict().values()"
   ]
  },
  {
   "cell_type": "code",
   "execution_count": 21,
   "metadata": {
    "collapsed": true
   },
   "outputs": [],
   "source": [
    "# vectorize\n",
    "vectorizer = DV(sparse = False)\n",
    "\n",
    "features = vectorizer.fit_transform(dict_train_data)\n",
    "vec_data = pd.DataFrame(features)\n",
    "vec_data.columns = vectorizer.get_feature_names()\n",
    "#vec_data.rename(columns={'changed': 'vec_changed'}, inplace=True)\n",
    "#vec_data.rename(columns={'id': 'vec_id'}, inplace=True)\n",
    "vec_data.index = train.index\n",
    "train = train.join(vec_data)\n",
    "\n",
    "features = vectorizer.transform(dict_test_data)\n",
    "vec_data = pd.DataFrame(features)\n",
    "vec_data.columns = vectorizer.get_feature_names()\n",
    "vec_data.index = test.index\n",
    "test = test.join(vec_data)"
   ]
  },
  {
   "cell_type": "code",
   "execution_count": 22,
   "metadata": {
    "collapsed": true
   },
   "outputs": [],
   "source": [
    "# merge numerical and categorical sets\n",
    "trainend = int(0.75*len(train))\n",
    "valid_inds = list(train[trainend:].index.values)\n",
    "train_inds = list(train.loc[~train.index.isin(valid_inds)].index.values)"
   ]
  },
  {
   "cell_type": "code",
   "execution_count": 23,
   "metadata": {
    "collapsed": true
   },
   "outputs": [],
   "source": [
    "# fill in nan with mean\n",
    "train.fillna(train.mean(),inplace=True);\n",
    "test.fillna(test.mean(),inplace=True);"
   ]
  },
  {
   "cell_type": "markdown",
   "metadata": {},
   "source": [
    "### 1. XGBoost"
   ]
  },
  {
   "cell_type": "code",
   "execution_count": 24,
   "metadata": {
    "collapsed": true
   },
   "outputs": [],
   "source": [
    "valid = train.iloc[valid_inds]\n",
    "train = train.iloc[train_inds]\n",
    "\n",
    "y_train = train['target'].values\n",
    "y_valid = valid['target'].values"
   ]
  },
  {
   "cell_type": "code",
   "execution_count": 25,
   "metadata": {
    "collapsed": true
   },
   "outputs": [],
   "source": [
    "X_train = train.drop(['ID','target'],axis=1).values\n",
    "X_valid = valid.drop(['ID','target'],axis=1).values\n",
    "\n",
    "ids = test['ID'].values\n",
    "X_test = test.drop(['ID'],axis=1).values"
   ]
  },
  {
   "cell_type": "code",
   "execution_count": 26,
   "metadata": {
    "collapsed": true
   },
   "outputs": [],
   "source": [
    "num_rounds=1000\n",
    "\n",
    "params = {}\n",
    "params[\"objective\"] = \"binary:logistic\"\n",
    "params[\"eta\"] = 0.05\n",
    "#params[\"min_child_weight\"] = 3\n",
    "params[\"subsample\"] = 0.67\n",
    "params[\"colsample_bytree\"] = 0.9\n",
    "params[\"silent\"] = 1\n",
    "params[\"max_depth\"] = 6\n",
    "params[\"eval_metric\"] = \"logloss\"\n",
    "params[\"n_estimators\"] = 100"
   ]
  },
  {
   "cell_type": "code",
   "execution_count": 27,
   "metadata": {
    "collapsed": true
   },
   "outputs": [],
   "source": [
    "xgb_train = xgb.DMatrix(X_train, label=y_train)\n",
    "xgb_val = xgb.DMatrix(X_valid, label=y_valid)\n",
    "xgb_test = xgb.DMatrix(X_test)\n",
    "\n",
    "param_list = list(params.items())\n",
    "watch_list = [(xgb_train, 'train'),(xgb_val, 'val')]"
   ]
  },
  {
   "cell_type": "code",
   "execution_count": 28,
   "metadata": {},
   "outputs": [
    {
     "name": "stdout",
     "output_type": "stream",
     "text": [
      "[0]\ttrain-logloss:0.674603\tval-logloss:0.674832\n",
      "Multiple eval metrics have been passed: 'val-logloss' will be used for early stopping.\n",
      "\n",
      "Will train until val-logloss hasn't improved in 50 rounds.\n",
      "[50]\ttrain-logloss:0.465984\tval-logloss:0.474749\n",
      "[100]\ttrain-logloss:0.449869\tval-logloss:0.467994\n",
      "[150]\ttrain-logloss:0.440594\tval-logloss:0.466635\n",
      "[200]\ttrain-logloss:0.432266\tval-logloss:0.4658\n",
      "[250]\ttrain-logloss:0.424598\tval-logloss:0.465445\n",
      "[300]\ttrain-logloss:0.417141\tval-logloss:0.465252\n",
      "[350]\ttrain-logloss:0.410112\tval-logloss:0.465189\n",
      "[400]\ttrain-logloss:0.403469\tval-logloss:0.465087\n",
      "[450]\ttrain-logloss:0.396728\tval-logloss:0.465001\n",
      "Stopping. Best iteration:\n",
      "[433]\ttrain-logloss:0.399045\tval-logloss:0.46497\n",
      "\n"
     ]
    }
   ],
   "source": [
    "# train model\n",
    "model = xgb.train(param_list, xgb_train, num_rounds, watch_list, verbose_eval=50, early_stopping_rounds=50)"
   ]
  },
  {
   "cell_type": "code",
   "execution_count": 29,
   "metadata": {},
   "outputs": [
    {
     "data": {
      "text/plain": [
       "array([ 0.2285651 ,  0.91349894,  0.6243645 ,  0.57253551,  0.67902946], dtype=float32)"
      ]
     },
     "execution_count": 29,
     "metadata": {},
     "output_type": "execute_result"
    }
   ],
   "source": [
    "y_pred = model.predict(xgb_test)\n",
    "y_pred[:5]"
   ]
  },
  {
   "cell_type": "markdown",
   "metadata": {},
   "source": [
    "### 2. Feature Experiments"
   ]
  },
  {
   "cell_type": "code",
   "execution_count": 30,
   "metadata": {
    "collapsed": true
   },
   "outputs": [],
   "source": [
    "X_train = train.drop(['ID','target'],axis=1)\n",
    "X_valid = valid.drop(['ID','target'],axis=1)\n",
    "\n",
    "ids = test['ID']\n",
    "X_test = test.drop(['ID'],axis=1)"
   ]
  },
  {
   "cell_type": "code",
   "execution_count": 31,
   "metadata": {},
   "outputs": [
    {
     "data": {
      "text/plain": [
       "XGBRegressor(base_score=0.5, booster='gbtree', colsample_bylevel=1,\n",
       "       colsample_bytree=1, gamma=0, learning_rate=0.005, max_delta_step=0,\n",
       "       max_depth=4, min_child_weight=1, missing=None, n_estimators=433,\n",
       "       n_jobs=1, nthread=1, objective='reg:linear', random_state=0,\n",
       "       reg_alpha=0, reg_lambda=1, scale_pos_weight=1, seed=0, silent=True,\n",
       "       subsample=0.95)"
      ]
     },
     "execution_count": 31,
     "metadata": {},
     "output_type": "execute_result"
    }
   ],
   "source": [
    "model = xgb.XGBRegressor(max_depth=4,learning_rate=0.005,n_estimators=433,\n",
    "                         subsample=0.95, objective='reg:linear')\n",
    "model.fit(X_train,y_train)"
   ]
  },
  {
   "cell_type": "code",
   "execution_count": 32,
   "metadata": {
    "collapsed": true
   },
   "outputs": [],
   "source": [
    "feat_names = X_train.columns.values\n",
    "feat_imp = model.feature_importances_\n",
    "\n",
    "imp_map = pd.Series(feat_imp,index=feat_names)\n",
    "imp_map.sort_values(ascending=False,inplace=True)\n",
    "\n",
    "top10 = pd.Series(imp_map[0:10]).reset_index()\n",
    "top10.columns = ['Variable','Importance']"
   ]
  },
  {
   "cell_type": "code",
   "execution_count": 33,
   "metadata": {},
   "outputs": [
    {
     "data": {
      "text/plain": [
       "<matplotlib.text.Text at 0xb8e25c0>"
      ]
     },
     "execution_count": 33,
     "metadata": {},
     "output_type": "execute_result"
    },
    {
     "data": {
      "image/png": "[encoded data removed]",
      "text/plain": [
       "<matplotlib.figure.Figure at 0xb449dd8>"
      ]
     },
     "metadata": {},
     "output_type": "display_data"
    }
   ],
   "source": [
    "plt.figure(figsize=(10,5))\n",
    "sns.barplot(top10['Importance'],top10['Variable'])\n",
    "plt.xlabel('Importance')"
   ]
  }
 ],
 "metadata": {
  "kernelspec": {
   "display_name": "Python 3",
   "language": "python",
   "name": "python3"
  },
  "language_info": {
   "codemirror_mode": {
    "name": "ipython",
    "version": 3
   },
   "file_extension": ".py",
   "mimetype": "text/x-python",
   "name": "python",
   "nbconvert_exporter": "python",
   "pygments_lexer": "ipython3",
   "version": "3.6.1"
  }
 },
 "nbformat": 4,
 "nbformat_minor": 2
}
