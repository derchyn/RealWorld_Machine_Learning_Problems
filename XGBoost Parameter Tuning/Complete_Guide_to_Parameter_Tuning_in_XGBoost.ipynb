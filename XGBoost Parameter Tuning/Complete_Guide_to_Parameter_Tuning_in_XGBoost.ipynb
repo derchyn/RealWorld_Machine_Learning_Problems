{
 "cells": [
  {
   "cell_type": "markdown",
   "metadata": {},
   "source": [
    "## What is XGBoost"
   ]
  },
  {
   "cell_type": "markdown",
   "metadata": {},
   "source": [
    "One of the more delightfully named theorems in data science is called “The No Free Lunch Theorem.” It states “any two algorithms are equivalent when their performance is averaged across all possible problems.”(4) If that’s true, why did over half of the winning solutions for the data science competition website Kaggle in 2015 contain XGBoost?(1) How does XGBoost even work? What does it look like in action?\n",
    "\n",
    "Reference: https://www.analyticsvidhya.com/blog/2016/03/complete-guide-parameter-tuning-xgboost-with-codes-python/"
   ]
  },
  {
   "cell_type": "markdown",
   "metadata": {},
   "source": [
    "### Gradient Boosted Trees Explained\n",
    "\n",
    "Overfitting is the machine learning equivalent of cramming. If you only memorized the material without drawing out generalizations, you’ll flub the final exam. Decision trees are great crammers, so data scientists have developed several techniques to make sure that they don’t overfit.\n",
    "\n",
    "One method is called boosting. Instead of training one strong learner (the overfitting decision tree) we instead train several weak (underfitting) learners in sequence. The trick is that the current tree is informed about which examples the previous tree got wrong. For boosting to work, the learners need to be incorrect in different ways. At the end of training, each tree votes on how each example should be classified. This way, the weaknesses found in some learners can be compensated by others.\n",
    "\n",
    "Adaptive boosting (AdaBoost) is a classic implementation of boosting. The first tree is punished equally for each misclassification. The next tree will be punished more harshly for getting the same examples wrong as the previous tree. This tactic will cause the new tree to prioritize making decisions that will correctly classify the previous hardest cases.\n",
    "\n",
    "Gradient boosting is another flavor of boosting. The first tree fits the data in the typical fashion. The next tree tries to find the decisions that would minimize the error of the of the previous tree. It would be simple to minimize the error if we knew the mathematical function that described the data. If we knew the function, we wouldn’t be trying to approximate it with decisions tree in the first place! We’ll need a new tactic to minimize error without knowing the function.\n",
    "\n",
    "Imagine you on top of a hill enveloped in fog. You can’t see more than a step in front of you. What would be a reasonable way of finding the fastest way down? One way would be to put your foot out in each direction and feel the steepest way down. Now, step down the steepest slope you found. Repeat this process until you are at the bottom. Data scientists call this algorithm gradient descent. In this context, we call it the Gradient Boosted Trees algorithm.\n",
    "\n",
    "<img src=\"datasets/gradient_descent.gif\" style=\"width: 450px;\"/>\n"
   ]
  },
  {
   "cell_type": "markdown",
   "metadata": {},
   "source": [
    "### What makes XGBoost EXTREME?\n",
    "\n",
    "The first proposal for gradient boosted trees was published in 2001.(3) What has XGBoost boost done to improve the algorithm?\n",
    "\n",
    "One common misconception I’ve seen is that XGBoost is somehow more accurate than other implementations of the gradient boosted tree algorithm. It’s not true! The authors of the algorithm found that XGBoost had roughly the same error rate as the Sci-Kit Learn implementation.\n",
    "\n",
    "> XGBoost is not extremely accurate; XGBoost is extremely fast:\n",
    "\n",
    ">1.XGBoost has sparsity-awareness: Boosted trees work especially well on categorical feature (e.g. Was this person born England?). In many real-world data sets, a categorical feature column will be mostly zeros. When deciding where to split, XGBoost has indices of the non-zero data are and only needs to look at those entries.\n",
    "    \n",
    ">2.XGBoost is parallelizable: The most time-consuming step for boosted tree algorithms is sorting continuous features (e.g. How far do you drive to work each day?). The sparse data structure and clever implementation allow XGBoost sort columns independently. This way, the sorting work can be divided up between parallel threads of the CPU.\n",
    "    \n",
    ">3.XGBoost can split approximately: To find the most efficient cut on a continuous feature, gradient boosted trees need to keep all of the data in memory at the same time to sort it. This is not a problem for small datasets, but it becomes impossible when you have more data than RAM. XGBoost has the ability to bin these numbers in rough order instead of sorting them entirely. The authors of the XGBoost paper show that, with enough bins, you get approximately the same performance as with the exact split in a fraction of the time.\n"
   ]
  },
  {
   "cell_type": "markdown",
   "metadata": {},
   "source": [
    "## The XGBoost Advantage"
   ]
  },
  {
   "cell_type": "markdown",
   "metadata": {},
   "source": [
    "I’ve always admired the boosting capabilities that this algorithm infuses in a predictive model. When I explored more about its performance and science behind its high accuracy, I discovered many advantages:\n",
    "\n",
    "1.Regularization: \n",
    "    * Standard GBM implementation has no regularization like XGBoost, therefore it also helps to reduce overfitting.\n",
    "    * In fact, XGBoost is also known as ‘regularized boosting‘ technique.\n",
    "2.Parallel Processing: \n",
    "    * XGBoost implements parallel processing and is blazingly faster as compared to GBM.\n",
    "    * But hang on, we know that boosting is sequential process so how can it be parallelized? We know that each tree can be built only after the previous one, so what stops us from making a tree using all cores? I hope you get where I’m coming from. Check this link out to explore further.\n",
    "    * XGBoost also supports implementation on Hadoop.\n",
    "3.High Flexibility \n",
    "    * XGBoost allow users to define custom optimization objectives and evaluation criteria.\n",
    "    * This adds a whole new dimension to the model and there is no limit to what we can do.\n",
    "4.Handling Missing Values \n",
    "    * XGBoost has an in-built routine to handle missing values.\n",
    "    * User is required to supply a different value than other observations and pass that as a parameter. XGBoost tries different things as it encounters a missing value on each node and learns which path to take for missing values in future.\n",
    "5.Tree Pruning: \n",
    "    * A GBM would stop splitting a node when it encounters a negative loss in the split. Thus it is more of a greedy algorithm.\n",
    "    * XGBoost on the other hand make splits upto the max_depth specified and then start pruning the tree backwards and remove splits beyond which there is no positive gain.\n",
    "    * Another advantage is that sometimes a split of negative loss say -2 may be followed by a split of positive loss +10. GBM would stop as it encounters -2. But XGBoost will go deeper and it will see a combined effect of +8 of the split and keep both.\n",
    "6.Built-in Cross-Validation \n",
    "    * XGBoost allows user to run a cross-validation at each iteration of the boosting process and thus it is easy to get the exact optimum number of boosting iterations in a single run.\n",
    "    * This is unlike GBM where we have to run a grid-search and only a limited values can be tested.\n",
    "7.Continue on Existing Model \n",
    "    * User can start training an XGBoost model from its last iteration of previous run. This can be of significant advantage in certain specific applications.\n",
    "    * GBM implementation of sklearn also has this feature so they are even on this point."
   ]
  },
  {
   "cell_type": "markdown",
   "metadata": {},
   "source": [
    "## XGBoost Parameters"
   ]
  },
  {
   "cell_type": "markdown",
   "metadata": {},
   "source": [
    "### I .General Parameters\n",
    "\n",
    "These define the overall functionality of XGBoost.\n",
    "\n",
    "1. booster [default=gbtree]\n",
    "    * Select the type of model to run at each iteration. It has 2 options:\n",
    "        * gbtree: tree-based models\n",
    "        * gblinear: linear models\n",
    "2. silent [default=0]:\n",
    "    * Silent mode is activated is set to 1, i.e. no running messages will be printed.\n",
    "    * It’s generally good to keep it 0 as the messages might help in understanding the model.\n",
    "3. nthread [default to maximum number of threads available if not set]\n",
    "    * This is used for parallel processing and number of cores in the system should be entered\n",
    "    * If you wish to run on all cores, value should not be entered and algorithm will detect automatically\n",
    "    \n",
    "There are 2 more parameters which are set automatically by XGBoost and you need not worry about them.\n",
    "Lets move on to Booster parameters."
   ]
  },
  {
   "cell_type": "markdown",
   "metadata": {},
   "source": [
    "### II. Booster Parameters\n",
    "\n",
    "Though there are 2 types of boosters, I’ll consider only tree booster here because it always outperforms\n",
    "the linear booster and thus the later is rarely used.\n",
    "1. eta [default=0.3]\n",
    "    * Analogous to learning rate in GBM\n",
    "    * Makes the model more robust by shrinking the weights on each step\n",
    "    * Typical final values to be used: 0.01-0.2\n",
    "2. min_child_weight [default=1]\n",
    "    * Defines the minimum sum of weights of all observations required in a child.\n",
    "    * This is similar to min_child_leaf in GBM but not exactly. This refers to min “sum of weights” of observations while GBM has min “number of observations”.\n",
    "    * Used to control over-fitting. Higher values prevent a model from learning relations which might be\n",
    " highly specific to the particular sample selected for a tree.\n",
    "    * Too high values can lead to under-fitting hence, it should be tuned using CV.\n",
    "3. max_depth [default=6]\n",
    "    * The maximum depth of a tree, same as GBM.\n",
    "    * Used to control over-fitting as higher depth will allow model to learn relations very specific to a\n",
    "particular sample.\n",
    "    * Should be tuned using CV.\n",
    "    * Typical values: 3-10\n",
    "4. max_leaf_nodes\n",
    "    * The maximum number of terminal nodes or leaves in a tree.\n",
    "    * Can be defined in place of max_depth. Since binary trees are created, a depth of ‘n’ would produce a maximum of 2^n leaves.\n",
    "    * If this is defined, GBM will ignore max_depth.\n",
    "5. gamma [default=0]\n",
    "    * A node is split only when the resulting split gives a positive reduction in the loss function. Gamma\n",
    "specifies the minimum loss reduction required to make a split.\n",
    "    * Makes the algorithm conservative. The values can vary depending on the loss function and should be\n",
    "tuned.\n",
    "6. max_delta_step [default=0]\n",
    "    * In maximum delta step we allow each tree’s weight estimation to be. If the value is set to 0, it means\n",
    "there is no constraint. If it is set to a positive value, it can help making the update step more\n",
    "conservative.\n",
    "    * Usually this parameter is not needed, but it might help in logistic regression when class is extremely\n",
    "imbalanced.\n",
    "    * This is generally not used but you can explore further if you wish.\n",
    "7. subsample [default=1]\n",
    "    * Same as the subsample of GBM. Denotes the fraction of observations to be randomly samples for\n",
    "each tree.\n",
    "    * Lower values make the algorithm more conservative and prevents overfitting but too small values\n",
    "might lead to under-fitting.\n",
    "    * Typical values: 0.5-1\n",
    "8. colsample_bytree [default=1]\n",
    "    * Similar to max_features in GBM. Denotes the fraction of columns to be randomly samples for each\n",
    "tree.\n",
    "    * Typical values: 0.5-1\n",
    "9. colsample_bylevel [default=1]\n",
    "    * Denotes the subsample ratio of columns for each split, in each level.\n",
    "    * I don’t use this often because subsample and colsample_bytree will do the job for you. but you can\n",
    "explore further if you feel so.\n",
    "10. lambda [default=1]\n",
    "    * L2 regularization term on weights (analogous to Ridge regression)\n",
    "    * This used to handle the regularization part of XGBoost. Though many data scientists don’t use it\n",
    "often, it should be explored to reduce overfitting.\n",
    "11. alpha [default=0]\n",
    "    * L1 regularization term on weight (analogous to Lasso regression)\n",
    "    * Can be used in case of very high dimensionality so that the algorithm runs faster when implemented\n",
    "12. scale_pos_weight [default=1]\n",
    "    * A value greater than 0 should be used in case of high class imbalance as it helps in faster\n",
    "convergence."
   ]
  },
  {
   "cell_type": "markdown",
   "metadata": {},
   "source": [
    "### III. Learning Task Parameters\n",
    "\n",
    "These parameters are used to define the optimization objective the metric to be calculated at each step.\n",
    "\n",
    "1. objective [default=reg:linear]\n",
    "    * This defines the loss function to be minimized. Mostly used values are:\n",
    "        * binary:logistic –logistic regression for binary classification, returns predicted probability (not\n",
    "class)\n",
    "        * multi:softmax –multiclass classification using the softmax objective, returns predicted class\n",
    "(not probabilities)\n",
    "        * multi:softprob –same as softmax, but returns predicted probability of each data point\n",
    "belonging to each class.\n",
    "2. eval_metric [ default according to objective ]\n",
    "    * The metric to be used for validation data.\n",
    "    * The default values are rmse for regression and error for classification.\n",
    "    * Typical values are:\n",
    "        * rmse – root mean square error\n",
    "        * mae – mean absolute error\n",
    "        * logloss – negative log-likelihood\n",
    "        * error – Binary classification error rate (0.5 threshold)\n",
    "        * merror – Multiclass classification error rate\n",
    "        * mlogloss – Multiclass logloss\n",
    "        * auc: Area under the curve\n",
    "3. seed [default=0]\n",
    "    * The random number seed.\n",
    "    * Can be used for generating reproducible results and also for parameter tuning.                                                                                       "
   ]
  },
  {
   "cell_type": "markdown",
   "metadata": {},
   "source": [
    "## Import Libraries"
   ]
  },
  {
   "cell_type": "code",
   "execution_count": 1,
   "metadata": {},
   "outputs": [],
   "source": [
    "#Import libraries:\n",
    "import time\n",
    "import pandas as pd\n",
    "import numpy as np\n",
    "import xgboost as xgb\n",
    "from xgboost.sklearn import XGBClassifier\n",
    "from sklearn import model_selection, metrics #Additional scklearn functions\n",
    "from sklearn.model_selection import GridSearchCV #Perforing grid search\n",
    "import matplotlib.pylab as plt\n",
    "%matplotlib inline\n",
    "from matplotlib.pylab import rcParams\n",
    "rcParams['figure.figsize'] = 12, 4"
   ]
  },
  {
   "cell_type": "markdown",
   "metadata": {},
   "source": [
    "### Load Data:\n",
    "\n",
    "The data has gone through following pre-processing:\n",
    "1. City variable dropped because of too many categories\n",
    "2. DOB converted to Age | DOB dropped\n",
    "3. EMI_Loan_Submitted_Missing created which is 1 if EMI_Loan_Submitted was missing else 0 | EMI_Loan_Submitted dropped\n",
    "4. EmployerName dropped because of too many categories\n",
    "5. Existing_EMI imputed with 0 (median) - 111 values were missing\n",
    "6. Interest_Rate_Missing created which is 1 if Interest_Rate was missing else 0 | Interest_Rate dropped \n",
    "7. Lead_Creation_Date dropped because made little intuitive impact on outcome\n",
    "8. Loan_Amount_Applied, Loan_Tenure_Applied imputed with missing\n",
    "9. Loan_Amount_Submitted_Missing created which is 1 if Loan_Amount_Submitted was missing else 0 | Loan_Amount_Submitted dropped \n",
    "10. Loan_Tenure_Submitted_Missing created which is 1 if Loan_Tenure_Submitted was missing else 0 | Loan_Tenure_Submitted dropped \n",
    "11. LoggedIn, Salary_Account removed\n",
    "12. Processing_Fee_Missing created which is 1 if Processing_Fee was missing else 0 | Processing_Fee dropped\n",
    "13. Source - top 2 kept as is and all others combined into different category\n",
    "14. Numerical and One-Hot-Coding performed"
   ]
  },
  {
   "cell_type": "code",
   "execution_count": 2,
   "metadata": {
    "collapsed": true
   },
   "outputs": [],
   "source": [
    "train = pd.read_csv('datasets/train_modified.csv')\n",
    "target = 'Disbursed'\n",
    "IDcol = 'ID'"
   ]
  },
  {
   "cell_type": "markdown",
   "metadata": {},
   "source": [
    "Note that I have imported 2 forms of XGBoost:\n",
    "1. xgb – this is the direct xgboost library. I will use a specific function “cv” from this library\n",
    "2. XGBClassifier – this is an sklearn wrapper for XGBoost. This allows us to use sklearn’s Grid Search with\n",
    "parallel processing in the same way we did for GBM"
   ]
  },
  {
   "cell_type": "markdown",
   "metadata": {},
   "source": [
    "Before proceeding further, lets define a function which will help us create XGBoost models and perform\n",
    "cross-validation. The best part is that you can take this function as it is and use it later for your own\n",
    "models."
   ]
  },
  {
   "cell_type": "markdown",
   "metadata": {},
   "source": [
    "### Define a function for modeling and cross-validation:\n",
    "\n",
    "This function will do the following:\n",
    "1. fit the model\n",
    "2. determine training accuracy\n",
    "3. determine training AUC\n",
    "4. determine testing AUC\n",
    "5. update n_estimators with cv function of xgboost package\n",
    "6. plot Feature Importance "
   ]
  },
  {
   "cell_type": "code",
   "execution_count": 3,
   "metadata": {
    "collapsed": true
   },
   "outputs": [],
   "source": [
    "def modelfit(alg, dtrain, predictors,useTrainCV=True, cv_folds=5, early_stopping_rounds=50):\n",
    "\n",
    "    if useTrainCV:\n",
    "        xgb_param = alg.get_xgb_params()\n",
    "        xgtrain = xgb.DMatrix(dtrain[predictors].values, label=dtrain[target].values)\n",
    "        cvresult = xgb.cv(xgb_param, xgtrain, num_boost_round=alg.get_params()['n_estimators'], nfold=cv_folds,\n",
    "            metrics='auc', early_stopping_rounds=early_stopping_rounds)\n",
    "        alg.set_params(n_estimators=cvresult.shape[0])\n",
    "        \n",
    "    #Fit the algorithm on the data\n",
    "    alg.fit(dtrain[predictors], dtrain[target],eval_metric='auc')\n",
    "\n",
    "    #Predict training set:\n",
    "    dtrain_predictions = alg.predict(dtrain[predictors])\n",
    "    dtrain_predprob = alg.predict_proba(dtrain[predictors])[:,1]\n",
    "\n",
    "    #Print model report:\n",
    "    print (\"\\nModel Report\")\n",
    "    print (\"Accuracy : %.4g\" % metrics.accuracy_score(dtrain[target].values, dtrain_predictions))\n",
    "    print (\"AUC Score (Train): %f\" % metrics.roc_auc_score(dtrain[target], dtrain_predprob))\n",
    "        \n",
    "    feat_imp = pd.Series(alg.booster().get_fscore()).sort_values(ascending=False)\n",
    "    feat_imp.plot(kind='bar', title='Feature Importances')\n",
    "    plt.ylabel('Feature Importance Score')"
   ]
  },
  {
   "cell_type": "markdown",
   "metadata": {},
   "source": [
    "The focus of this article is to cover the concepts and not coding. Please feel free to drop a note in the comments if you find any challenges in understanding any part of it. Note that xgboost's sklearn wrapper doesn,t have a \"feature_importances\" metric but a get_fscore() function which does the same job."
   ]
  },
  {
   "cell_type": "markdown",
   "metadata": {},
   "source": [
    "## General Approach for Parameter Tuning"
   ]
  },
  {
   "cell_type": "markdown",
   "metadata": {},
   "source": [
    "We will use an approach similar to that of GBM here. The various steps to be performed are:\n",
    "1. Choose a relatively high learning rate. Generally a learning rate of 0.1 works but somewhere between\n",
    "0.05 to 0.3 should work for different problems. Determine the optimum number of trees for this\n",
    "learning rate. XGBoost has a very useful function called as “cv” which performs cross-validation at each\n",
    "boosting iteration and thus returns the optimum number of trees required.\n",
    "2. Tune tree-specific parameters ( max_depth, min_child_weight, gamma, subsample,\n",
    "colsample_bytree) for decided learning rate and number of trees. Note that we can choose different\n",
    "parameters to define a tree and I’ll take up an example here.\n",
    "3. Tune regularization parameters (lambda, alpha) for xgboost which can help reduce model complexity\n",
    "and enhance performance.\n",
    "4. Lower the learning rate and decide the optimal parameters .\n",
    "\n",
    "Let us look at a more detailed step by step approach."
   ]
  },
  {
   "cell_type": "markdown",
   "metadata": {},
   "source": [
    "### Step 1: Fix learning rate and number of estimators for tuning tree-based parameters"
   ]
  },
  {
   "cell_type": "markdown",
   "metadata": {},
   "source": [
    "In order to decide on boosting parameters, we need to set some initial values of other parameters. Lets\n",
    "take the following values:\n",
    "1. max_depth = 5 : This should be between 3-10. I’ve started with 5 but you can choose a different number\n",
    "as well. 4-6 can be good starting points.\n",
    "2. min_child_weight = 1 : A smaller value is chosen because it is a highly imbalanced class problem and\n",
    "leaf nodes can have smaller size groups.\n",
    "3. gamma = 0 : A smaller value like 0.1-0.2 can also be chosen for starting. This will anyways be tuned\n",
    "later.\n",
    "4. subsample, colsample_bytree = 0.8 : This is a commonly used used start value. Typical values\n",
    "range between 0.5-0.9.\n",
    "5. scale_pos_weight = 1: Because of high class imbalance.\n",
    "\n",
    "Please note that all the above are just initial estimates and will be tuned later. Lets take the default learning\n",
    "rate of 0.1 here and check the optimum number of trees using cv function of xgboost. The function defined\n",
    "above will do it for us."
   ]
  },
  {
   "cell_type": "code",
   "execution_count": 4,
   "metadata": {},
   "outputs": [
    {
     "name": "stdout",
     "output_type": "stream",
     "text": [
      "\n",
      "Model Report\n",
      "Accuracy : 0.9854\n",
      "AUC Score (Train): 0.895159\n",
      "---------------\n",
      "predict time:99.466s\n"
     ]
    },
    {
     "data": {
      "image/png": "[encoded data removed]",
      "text/plain": [
       "<matplotlib.figure.Figure at 0xb3d46a0>"
      ]
     },
     "metadata": {},
     "output_type": "display_data"
    }
   ],
   "source": [
    "#Choose all predictors except target & IDcols\n",
    "\n",
    "start_time = time.time()\n",
    "\n",
    "predictors = [x for x in train.columns if x not in [target, IDcol]]\n",
    "\n",
    "xgb1 = XGBClassifier(\n",
    "    learning_rate =0.1,\n",
    "    n_estimators=1000,\n",
    "    max_depth=5,\n",
    "    min_child_weight=1,\n",
    "    gamma=0,\n",
    "    subsample=0.8,\n",
    "    colsample_bytree=0.8,\n",
    "    objective= 'binary:logistic',\n",
    "    nthread=4,\n",
    "    scale_pos_weight=1,\n",
    "    seed=27)\n",
    "\n",
    "modelfit(xgb1, train, predictors)\n",
    "\n",
    "print('---------------')\n",
    "print(\"predict time:{}s\".format(round((time.time()-start_time), 3) ))"
   ]
  },
  {
   "cell_type": "markdown",
   "metadata": {
    "collapsed": true
   },
   "source": [
    "As you can see that here we got 140 as the optimal estimators for 0.1 learning rate. Note that this value\n",
    "might be too high for you depending on the power of your system. In that case you can increase the\n",
    "learning rate and re-run the command to get the reduced number of estimators."
   ]
  },
  {
   "cell_type": "markdown",
   "metadata": {
    "collapsed": true
   },
   "source": [
    "Note: You will see the test AUC as “AUC Score (Test)” in the outputs here. But this\n",
    "would not appear if you try to run the command on your system as the data is not\n",
    "made public. It’s provided here just for reference. The part of the code which\n",
    "generates this output has been removed here."
   ]
  },
  {
   "cell_type": "markdown",
   "metadata": {
    "collapsed": true
   },
   "source": [
    "### Step 2: Tune max_depth and min_child_weight"
   ]
  },
  {
   "cell_type": "markdown",
   "metadata": {},
   "source": [
    "We tune these first as they will have the highest impact on model outcome. To start with, let’s set wider ranges and then we will perform another iteration for smaller ranges."
   ]
  },
  {
   "cell_type": "markdown",
   "metadata": {},
   "source": [
    "Important Note: I’ll be doing some heavy-duty grid searched in this section which can take 15-30 mins\n",
    "or even more time to run depending on your system. You can vary the number of values you are testing\n",
    "based on what your system can handle."
   ]
  },
  {
   "cell_type": "code",
   "execution_count": 5,
   "metadata": {},
   "outputs": [
    {
     "name": "stderr",
     "output_type": "stream",
     "text": [
      "C:\\Users\\dcjong\\Anaconda3\\lib\\site-packages\\sklearn\\model_selection\\_search.py:667: DeprecationWarning: The grid_scores_ attribute was deprecated in version 0.18 in favor of the more elaborate cv_results_ attribute. The grid_scores_ attribute will not be available from 0.20\n",
      "  DeprecationWarning)\n"
     ]
    },
    {
     "data": {
      "text/plain": [
       "([mean: 0.83788, std: 0.00888, params: {'min_child_weight': 1, 'max_depth': 3},\n",
       "  mean: 0.83662, std: 0.00955, params: {'min_child_weight': 3, 'max_depth': 3},\n",
       "  mean: 0.83736, std: 0.00843, params: {'min_child_weight': 5, 'max_depth': 3},\n",
       "  mean: 0.84122, std: 0.00837, params: {'min_child_weight': 1, 'max_depth': 5},\n",
       "  mean: 0.84133, std: 0.00680, params: {'min_child_weight': 3, 'max_depth': 5},\n",
       "  mean: 0.84037, std: 0.00626, params: {'min_child_weight': 5, 'max_depth': 5},\n",
       "  mean: 0.83630, std: 0.00686, params: {'min_child_weight': 1, 'max_depth': 7},\n",
       "  mean: 0.83527, std: 0.00690, params: {'min_child_weight': 3, 'max_depth': 7},\n",
       "  mean: 0.83614, std: 0.00556, params: {'min_child_weight': 5, 'max_depth': 7},\n",
       "  mean: 0.82714, std: 0.00635, params: {'min_child_weight': 1, 'max_depth': 9},\n",
       "  mean: 0.82814, std: 0.00807, params: {'min_child_weight': 3, 'max_depth': 9},\n",
       "  mean: 0.83045, std: 0.00672, params: {'min_child_weight': 5, 'max_depth': 9}],\n",
       " {'max_depth': 5, 'min_child_weight': 3},\n",
       " 0.84132510069412414)"
      ]
     },
     "execution_count": 5,
     "metadata": {},
     "output_type": "execute_result"
    }
   ],
   "source": [
    "#Grid seach on subsample and max_features\n",
    "#Choose all predictors except target & IDcols\n",
    "\n",
    "param_test1 = {\n",
    "    'max_depth':range(3,10,2),\n",
    "    'min_child_weight':range(1,6,2)\n",
    "    }\n",
    "\n",
    "gsearch1 = GridSearchCV(estimator = XGBClassifier( learning_rate =0.1, n_estimators=140, max_depth=5,\n",
    "    min_child_weight=1, gamma=0, subsample=0.8, colsample_bytree=0.8,\n",
    "    objective= 'binary:logistic', nthread=4, scale_pos_weight=1, seed=27),\n",
    "    param_grid = param_test1, scoring='roc_auc',n_jobs=4,iid=False, cv=5)\n",
    "\n",
    "gsearch1.fit(train[predictors],train[target])\n",
    "\n",
    "gsearch1.grid_scores_, gsearch1.best_params_, gsearch1.best_score_"
   ]
  },
  {
   "cell_type": "markdown",
   "metadata": {},
   "source": [
    "Here, we have run 12 combinations with wider intervals between values. The ideal values are 5 for\n",
    "max_depth and 5 for min_child_weight. Lets go one step deeper and look for optimum values. We’ll\n",
    "search for values 1 above and below the optimum values because we took an interval of two."
   ]
  },
  {
   "cell_type": "code",
   "execution_count": 6,
   "metadata": {},
   "outputs": [
    {
     "name": "stderr",
     "output_type": "stream",
     "text": [
      "C:\\Users\\dcjong\\Anaconda3\\lib\\site-packages\\sklearn\\model_selection\\_search.py:667: DeprecationWarning: The grid_scores_ attribute was deprecated in version 0.18 in favor of the more elaborate cv_results_ attribute. The grid_scores_ attribute will not be available from 0.20\n",
      "  DeprecationWarning)\n"
     ]
    },
    {
     "data": {
      "text/plain": [
       "([mean: 0.84046, std: 0.00604, params: {'min_child_weight': 4, 'max_depth': 4},\n",
       "  mean: 0.84052, std: 0.00762, params: {'min_child_weight': 5, 'max_depth': 4},\n",
       "  mean: 0.84025, std: 0.00710, params: {'min_child_weight': 6, 'max_depth': 4},\n",
       "  mean: 0.84124, std: 0.00575, params: {'min_child_weight': 4, 'max_depth': 5},\n",
       "  mean: 0.84037, std: 0.00626, params: {'min_child_weight': 5, 'max_depth': 5},\n",
       "  mean: 0.84040, std: 0.00709, params: {'min_child_weight': 6, 'max_depth': 5},\n",
       "  mean: 0.83870, std: 0.00550, params: {'min_child_weight': 4, 'max_depth': 6},\n",
       "  mean: 0.83860, std: 0.00547, params: {'min_child_weight': 5, 'max_depth': 6},\n",
       "  mean: 0.83642, std: 0.00638, params: {'min_child_weight': 6, 'max_depth': 6}],\n",
       " {'max_depth': 5, 'min_child_weight': 4},\n",
       " 0.8412419855272365)"
      ]
     },
     "execution_count": 6,
     "metadata": {},
     "output_type": "execute_result"
    }
   ],
   "source": [
    "#Grid seach on subsample and max_features\n",
    "#Choose all predictors except target & IDcols\n",
    "\n",
    "param_test2 = {\n",
    "    'max_depth':[4,5,6],\n",
    "    'min_child_weight':[4,5,6]\n",
    "    }\n",
    "\n",
    "gsearch2 = GridSearchCV(estimator = XGBClassifier( learning_rate=0.1, n_estimators=140, max_depth=5,\n",
    "    min_child_weight=2, gamma=0, subsample=0.8, colsample_bytree=0.8,\n",
    "    objective= 'binary:logistic', nthread=4, scale_pos_weight=1,seed=27),\n",
    "    param_grid = param_test2, scoring='roc_auc',n_jobs=4,iid=False, cv=5)\n",
    "\n",
    "gsearch2.fit(train[predictors],train[target])\n",
    "\n",
    "gsearch2.grid_scores_, gsearch2.best_params_, gsearch2.best_score_"
   ]
  },
  {
   "cell_type": "markdown",
   "metadata": {},
   "source": [
    "Here, we get the optimum values as 4 for max_depth and 6 for min_child_weight. Also, we can\n",
    "see the CV score increasing slightly. Note that as the model performance increases, it becomes\n",
    "exponentially difficult to achieve even marginal gains in performance. You would have noticed that here we\n",
    "got 6 as optimum value for min_child_weight but we haven’t tried values more than 6. We can do that as\n",
    "follow:."
   ]
  },
  {
   "cell_type": "code",
   "execution_count": 7,
   "metadata": {},
   "outputs": [
    {
     "name": "stderr",
     "output_type": "stream",
     "text": [
      "C:\\Users\\dcjong\\Anaconda3\\lib\\site-packages\\sklearn\\model_selection\\_search.py:667: DeprecationWarning: The grid_scores_ attribute was deprecated in version 0.18 in favor of the more elaborate cv_results_ attribute. The grid_scores_ attribute will not be available from 0.20\n",
      "  DeprecationWarning)\n"
     ]
    },
    {
     "data": {
      "text/plain": [
       "([mean: 0.84025, std: 0.00710, params: {'min_child_weight': 6},\n",
       "  mean: 0.83979, std: 0.00715, params: {'min_child_weight': 8},\n",
       "  mean: 0.84049, std: 0.00623, params: {'min_child_weight': 10},\n",
       "  mean: 0.83993, std: 0.00760, params: {'min_child_weight': 12}],\n",
       " {'min_child_weight': 10},\n",
       " 0.84048764848805835)"
      ]
     },
     "execution_count": 7,
     "metadata": {},
     "output_type": "execute_result"
    }
   ],
   "source": [
    "#Grid seach on subsample and max_features\n",
    "#Choose all predictors except target & IDcols\n",
    "\n",
    "param_test2b = {\n",
    "    'min_child_weight':[6,8,10,12]\n",
    "    }\n",
    "\n",
    "gsearch2b = GridSearchCV(estimator = XGBClassifier( learning_rate=0.1, n_estimators=140, max_depth=4,\n",
    "    min_child_weight=2, gamma=0, subsample=0.8, colsample_bytree=0.8,\n",
    "    objective= 'binary:logistic', nthread=4, scale_pos_weight=1,seed=27),\n",
    "    param_grid = param_test2b, scoring='roc_auc',n_jobs=4,iid=False, cv=5)\n",
    "\n",
    "gsearch2b.fit(train[predictors],train[target])\n",
    "\n",
    "gsearch2b.grid_scores_, gsearch2b.best_params_, gsearch2b.best_score_"
   ]
  },
  {
   "cell_type": "markdown",
   "metadata": {},
   "source": [
    "We see 6 as the optimal value."
   ]
  },
  {
   "cell_type": "markdown",
   "metadata": {},
   "source": [
    "### Step 3: Tune gamma"
   ]
  },
  {
   "cell_type": "markdown",
   "metadata": {},
   "source": [
    "Now lets tune gamma value using the parameters already tuned above. Gamma can take various values\n",
    "but I’ll check for 5 values here. You can go into more precise values as."
   ]
  },
  {
   "cell_type": "code",
   "execution_count": 8,
   "metadata": {},
   "outputs": [
    {
     "name": "stderr",
     "output_type": "stream",
     "text": [
      "C:\\Users\\dcjong\\Anaconda3\\lib\\site-packages\\sklearn\\model_selection\\_search.py:667: DeprecationWarning: The grid_scores_ attribute was deprecated in version 0.18 in favor of the more elaborate cv_results_ attribute. The grid_scores_ attribute will not be available from 0.20\n",
      "  DeprecationWarning)\n"
     ]
    },
    {
     "data": {
      "text/plain": [
       "([mean: 0.84025, std: 0.00710, params: {'gamma': 0.0},\n",
       "  mean: 0.83962, std: 0.00740, params: {'gamma': 0.1},\n",
       "  mean: 0.84083, std: 0.00669, params: {'gamma': 0.2},\n",
       "  mean: 0.84094, std: 0.00734, params: {'gamma': 0.3},\n",
       "  mean: 0.83989, std: 0.00667, params: {'gamma': 0.4}],\n",
       " {'gamma': 0.3},\n",
       " 0.84094120075792378)"
      ]
     },
     "execution_count": 8,
     "metadata": {},
     "output_type": "execute_result"
    }
   ],
   "source": [
    "#Grid seach on subsample and max_features\n",
    "#Choose all predictors except target & IDcols\n",
    "\n",
    "param_test3 = {\n",
    "    'gamma':[i/10.0 for i in range(0,5)]\n",
    "    }\n",
    "\n",
    "gsearch3 = GridSearchCV(estimator = XGBClassifier( learning_rate =0.1, n_estimators=140, max_depth=4,\n",
    "    min_child_weight=6, gamma=0, subsample=0.8, colsample_bytree=0.8,\n",
    "    objective= 'binary:logistic', nthread=4, scale_pos_weight=1,seed=27),\n",
    "    param_grid = param_test3, scoring='roc_auc',n_jobs=4,iid=False, cv=5)\n",
    "\n",
    "gsearch3.fit(train[predictors],train[target])\n",
    "\n",
    "gsearch3.grid_scores_, gsearch3.best_params_, gsearch3.best_score_"
   ]
  },
  {
   "cell_type": "markdown",
   "metadata": {},
   "source": [
    "This shows that our original value of gamma, i.e. 0 is the optimum one. Before proceeding, a good\n",
    "idea would be to re-calibrate the number of boosting rounds for the updated parameters."
   ]
  },
  {
   "cell_type": "code",
   "execution_count": 9,
   "metadata": {},
   "outputs": [
    {
     "name": "stdout",
     "output_type": "stream",
     "text": [
      "\n",
      "Model Report\n",
      "Accuracy : 0.9854\n",
      "AUC Score (Train): 0.894438\n"
     ]
    },
    {
     "data": {
      "image/png": "[encoded data removed]",
      "text/plain": [
       "<matplotlib.figure.Figure at 0xb737908>"
      ]
     },
     "metadata": {},
     "output_type": "display_data"
    }
   ],
   "source": [
    "xgb2 = XGBClassifier(\n",
    "    learning_rate =0.1,\n",
    "    n_estimators=1000,\n",
    "    max_depth=4,\n",
    "    min_child_weight=6,\n",
    "    gamma=0,\n",
    "    subsample=0.8,\n",
    "    colsample_bytree=0.8,\n",
    "    objective= 'binary:logistic',\n",
    "    nthread=4,\n",
    "    scale_pos_weight=1,\n",
    "    seed=27)\n",
    "\n",
    "modelfit(xgb2, train, predictors)"
   ]
  },
  {
   "cell_type": "markdown",
   "metadata": {},
   "source": [
    "Here, we can see the improvement in score. So the final parameters are:\n",
    "    * max_depth: 4\n",
    "    * min_child_weight: 6\n",
    "    * gamma: 0"
   ]
  },
  {
   "cell_type": "markdown",
   "metadata": {},
   "source": [
    "### Step 4: Tune subsample and colsample_bytree"
   ]
  },
  {
   "cell_type": "markdown",
   "metadata": {},
   "source": [
    "The next step would be try different subsample and colsample_bytree values. Lets do this in 2 stages as\n",
    "well and take values 0.6,0.7,0.8,0.9 for both to start with."
   ]
  },
  {
   "cell_type": "code",
   "execution_count": 10,
   "metadata": {},
   "outputs": [
    {
     "name": "stderr",
     "output_type": "stream",
     "text": [
      "C:\\Users\\dcjong\\Anaconda3\\lib\\site-packages\\sklearn\\model_selection\\_search.py:667: DeprecationWarning: The grid_scores_ attribute was deprecated in version 0.18 in favor of the more elaborate cv_results_ attribute. The grid_scores_ attribute will not be available from 0.20\n",
      "  DeprecationWarning)\n"
     ]
    },
    {
     "data": {
      "text/plain": [
       "([mean: 0.83922, std: 0.00887, params: {'subsample': 0.6, 'colsample_bytree': 0.6},\n",
       "  mean: 0.83949, std: 0.00884, params: {'subsample': 0.7, 'colsample_bytree': 0.6},\n",
       "  mean: 0.83892, std: 0.00624, params: {'subsample': 0.8, 'colsample_bytree': 0.6},\n",
       "  mean: 0.83936, std: 0.00605, params: {'subsample': 0.9, 'colsample_bytree': 0.6},\n",
       "  mean: 0.84062, std: 0.00698, params: {'subsample': 0.6, 'colsample_bytree': 0.7},\n",
       "  mean: 0.83973, std: 0.00732, params: {'subsample': 0.7, 'colsample_bytree': 0.7},\n",
       "  mean: 0.84007, std: 0.00716, params: {'subsample': 0.8, 'colsample_bytree': 0.7},\n",
       "  mean: 0.84112, std: 0.00651, params: {'subsample': 0.9, 'colsample_bytree': 0.7},\n",
       "  mean: 0.84004, std: 0.00761, params: {'subsample': 0.6, 'colsample_bytree': 0.8},\n",
       "  mean: 0.83893, std: 0.00825, params: {'subsample': 0.7, 'colsample_bytree': 0.8},\n",
       "  mean: 0.83985, std: 0.00635, params: {'subsample': 0.8, 'colsample_bytree': 0.8},\n",
       "  mean: 0.84137, std: 0.00786, params: {'subsample': 0.9, 'colsample_bytree': 0.8},\n",
       "  mean: 0.84054, std: 0.00807, params: {'subsample': 0.6, 'colsample_bytree': 0.9},\n",
       "  mean: 0.83932, std: 0.00808, params: {'subsample': 0.7, 'colsample_bytree': 0.9},\n",
       "  mean: 0.83981, std: 0.00741, params: {'subsample': 0.8, 'colsample_bytree': 0.9},\n",
       "  mean: 0.84095, std: 0.00659, params: {'subsample': 0.9, 'colsample_bytree': 0.9}],\n",
       " {'colsample_bytree': 0.8, 'subsample': 0.9},\n",
       " 0.84137280962117023)"
      ]
     },
     "execution_count": 10,
     "metadata": {},
     "output_type": "execute_result"
    }
   ],
   "source": [
    "param_test4 = {\n",
    "    'subsample':[i/10.0 for i in range(6,10)],\n",
    "    'colsample_bytree':[i/10.0 for i in range(6,10)]\n",
    "    }\n",
    "\n",
    "gsearch4 = GridSearchCV(estimator = XGBClassifier( learning_rate =0.1, n_estimators=177, max_depth=4,\n",
    "    min_child_weight=6, gamma=0, subsample=0.8, colsample_bytree=0.8,\n",
    "    objective= 'binary:logistic', nthread=4, scale_pos_weight=1,seed=27), \n",
    "    param_grid = param_test4, scoring='roc_auc',n_jobs=4,iid=False, cv=5)\n",
    "\n",
    "gsearch4.fit(train[predictors],train[target])\n",
    "\n",
    "gsearch4.grid_scores_, gsearch4.best_params_, gsearch4.best_score_"
   ]
  },
  {
   "cell_type": "markdown",
   "metadata": {},
   "source": [
    "Here, we found 0.8 as the optimum value for both subsample and colsample_bytree. Now we\n",
    "should try values in 0.05 interval around these."
   ]
  },
  {
   "cell_type": "code",
   "execution_count": 11,
   "metadata": {},
   "outputs": [
    {
     "name": "stderr",
     "output_type": "stream",
     "text": [
      "C:\\Users\\dcjong\\Anaconda3\\lib\\site-packages\\sklearn\\model_selection\\_search.py:667: DeprecationWarning: The grid_scores_ attribute was deprecated in version 0.18 in favor of the more elaborate cv_results_ attribute. The grid_scores_ attribute will not be available from 0.20\n",
      "  DeprecationWarning)\n"
     ]
    },
    {
     "data": {
      "text/plain": [
       "([mean: 0.83945, std: 0.00784, params: {'subsample': 0.75, 'colsample_bytree': 0.75},\n",
       "  mean: 0.83963, std: 0.00757, params: {'subsample': 0.8, 'colsample_bytree': 0.75},\n",
       "  mean: 0.84133, std: 0.00747, params: {'subsample': 0.85, 'colsample_bytree': 0.75},\n",
       "  mean: 0.83942, std: 0.00741, params: {'subsample': 0.75, 'colsample_bytree': 0.8},\n",
       "  mean: 0.83985, std: 0.00635, params: {'subsample': 0.8, 'colsample_bytree': 0.8},\n",
       "  mean: 0.84116, std: 0.00773, params: {'subsample': 0.85, 'colsample_bytree': 0.8},\n",
       "  mean: 0.84001, std: 0.00830, params: {'subsample': 0.75, 'colsample_bytree': 0.85},\n",
       "  mean: 0.84015, std: 0.00636, params: {'subsample': 0.8, 'colsample_bytree': 0.85},\n",
       "  mean: 0.84094, std: 0.00685, params: {'subsample': 0.85, 'colsample_bytree': 0.85}],\n",
       " {'colsample_bytree': 0.8, 'subsample': 0.9},\n",
       " 0.84137280962117023)"
      ]
     },
     "execution_count": 11,
     "metadata": {},
     "output_type": "execute_result"
    }
   ],
   "source": [
    "param_test5 = {\n",
    "    'subsample':[i/100.0 for i in range(75,90,5)],\n",
    "    'colsample_bytree':[i/100.0 for i in range(75,90,5)]\n",
    "    }\n",
    "\n",
    "gsearch5 = GridSearchCV(estimator = XGBClassifier( learning_rate =0.1, n_estimators=177, max_depth=4,\n",
    "    min_child_weight=6, gamma=0, subsample=0.8, colsample_bytree=0.8,\n",
    "    objective= 'binary:logistic', nthread=4, scale_pos_weight=1,seed=27),\n",
    "    param_grid = param_test5, scoring='roc_auc',n_jobs=4,iid=False, cv=5)\n",
    "\n",
    "gsearch5.fit(train[predictors],train[target])\n",
    "\n",
    "gsearch5.grid_scores_, gsearch4.best_params_, gsearch4.best_score_"
   ]
  },
  {
   "cell_type": "markdown",
   "metadata": {},
   "source": [
    "Again we got the same values as before. Thus the optimum values are:\n",
    "    * subsample: 0.8\n",
    "    * colsample_bytree: 0.8"
   ]
  },
  {
   "cell_type": "markdown",
   "metadata": {},
   "source": [
    "### Step 5: Tuning Regularization Parameters"
   ]
  },
  {
   "cell_type": "markdown",
   "metadata": {},
   "source": [
    "Next step is to apply regularization to reduce overfitting. Though many people don’t use this parameters\n",
    "much as gamma provides a substantial way of controlling complexity. But we should always try it. I’ll tune\n",
    "‘reg_alpha’ value here and leave it upto you to try different values of ‘reg_lambda’."
   ]
  },
  {
   "cell_type": "code",
   "execution_count": 12,
   "metadata": {},
   "outputs": [
    {
     "name": "stderr",
     "output_type": "stream",
     "text": [
      "C:\\Users\\dcjong\\Anaconda3\\lib\\site-packages\\sklearn\\model_selection\\_search.py:667: DeprecationWarning: The grid_scores_ attribute was deprecated in version 0.18 in favor of the more elaborate cv_results_ attribute. The grid_scores_ attribute will not be available from 0.20\n",
      "  DeprecationWarning)\n"
     ]
    },
    {
     "data": {
      "text/plain": [
       "([mean: 0.83908, std: 0.00653, params: {'reg_alpha': 1e-05},\n",
       "  mean: 0.84065, std: 0.00638, params: {'reg_alpha': 0.01},\n",
       "  mean: 0.84068, std: 0.00693, params: {'reg_alpha': 0.1},\n",
       "  mean: 0.84047, std: 0.00725, params: {'reg_alpha': 1},\n",
       "  mean: 0.81263, std: 0.01504, params: {'reg_alpha': 100}],\n",
       " {'reg_alpha': 0.1},\n",
       " 0.84067934565387747)"
      ]
     },
     "execution_count": 12,
     "metadata": {},
     "output_type": "execute_result"
    }
   ],
   "source": [
    "param_test6 = {\n",
    "    'reg_alpha':[1e-5, 1e-2, 0.1, 1, 100]\n",
    "    }\n",
    "\n",
    "gsearch6 = GridSearchCV(estimator = XGBClassifier( learning_rate =0.1, n_estimators=177, max_depth=4,\n",
    "    min_child_weight=6, gamma=0.1, subsample=0.8, colsample_bytree=0.8,\n",
    "    objective= 'binary:logistic', nthread=4, scale_pos_weight=1,seed=27),\n",
    "    param_grid = param_test6, scoring='roc_auc',n_jobs=4,iid=False, cv=5)\n",
    "\n",
    "gsearch6.fit(train[predictors],train[target])\n",
    "\n",
    "gsearch6.grid_scores_, gsearch6.best_params_, gsearch6.best_score_"
   ]
  },
  {
   "cell_type": "markdown",
   "metadata": {},
   "source": [
    "We can see that the CV score is less than the previous case. But the values tried are very widespread,\n",
    "we should try values closer to the optimum here (0.01) to see if we get something better."
   ]
  },
  {
   "cell_type": "code",
   "execution_count": 13,
   "metadata": {},
   "outputs": [
    {
     "name": "stderr",
     "output_type": "stream",
     "text": [
      "C:\\Users\\dcjong\\Anaconda3\\lib\\site-packages\\sklearn\\model_selection\\_search.py:667: DeprecationWarning: The grid_scores_ attribute was deprecated in version 0.18 in favor of the more elaborate cv_results_ attribute. The grid_scores_ attribute will not be available from 0.20\n",
      "  DeprecationWarning)\n"
     ]
    },
    {
     "data": {
      "text/plain": [
       "([mean: 0.83908, std: 0.00653, params: {'reg_alpha': 0},\n",
       "  mean: 0.83967, std: 0.00616, params: {'reg_alpha': 0.001},\n",
       "  mean: 0.84015, std: 0.00695, params: {'reg_alpha': 0.005},\n",
       "  mean: 0.84065, std: 0.00638, params: {'reg_alpha': 0.01},\n",
       "  mean: 0.84047, std: 0.00629, params: {'reg_alpha': 0.05}],\n",
       " {'reg_alpha': 0.01},\n",
       " 0.84065484773189758)"
      ]
     },
     "execution_count": 13,
     "metadata": {},
     "output_type": "execute_result"
    }
   ],
   "source": [
    "param_test7 = {\n",
    "    'reg_alpha':[0, 0.001, 0.005, 0.01, 0.05]\n",
    "    }\n",
    "\n",
    "gsearch7 = GridSearchCV(estimator = XGBClassifier( learning_rate =0.1, n_estimators=177, max_depth=4,\n",
    "    min_child_weight=6, gamma=0.1, subsample=0.8, colsample_bytree=0.8,\n",
    "    objective= 'binary:logistic', nthread=4, scale_pos_weight=1,seed=27),\n",
    "    param_grid = param_test7, scoring='roc_auc',n_jobs=4,iid=False, cv=5)\n",
    "\n",
    "gsearch7.fit(train[predictors],train[target])\n",
    "\n",
    "gsearch7.grid_scores_, gsearch7.best_params_, gsearch7.best_score_"
   ]
  },
  {
   "cell_type": "markdown",
   "metadata": {},
   "source": [
    "You can see that we got a better CV. Now we can apply this regularization in the model and look at the\n",
    "impact:"
   ]
  },
  {
   "cell_type": "code",
   "execution_count": 14,
   "metadata": {},
   "outputs": [
    {
     "name": "stdout",
     "output_type": "stream",
     "text": [
      "\n",
      "Model Report\n",
      "Accuracy : 0.9854\n",
      "AUC Score (Train): 0.884326\n"
     ]
    },
    {
     "data": {
      "image/png": "[encoded data removed]",
      "text/plain": [
       "<matplotlib.figure.Figure at 0xb6ae320>"
      ]
     },
     "metadata": {},
     "output_type": "display_data"
    }
   ],
   "source": [
    "xgb3 = XGBClassifier(\n",
    "    learning_rate =0.1,\n",
    "    n_estimators=1000,\n",
    "    max_depth=4,\n",
    "    min_child_weight=6,\n",
    "    gamma=0,\n",
    "    subsample=0.8,\n",
    "    colsample_bytree=0.8,\n",
    "    reg_alpha=0.005,\n",
    "    objective= 'binary:logistic',\n",
    "    nthread=4,\n",
    "    scale_pos_weight=1,\n",
    "    seed=27)\n",
    "\n",
    "modelfit(xgb3, train, predictors)    "
   ]
  },
  {
   "cell_type": "markdown",
   "metadata": {},
   "source": [
    "Again we can see slight improvement in the score."
   ]
  },
  {
   "cell_type": "markdown",
   "metadata": {},
   "source": [
    "### Step 6: Reducing Learning Rate"
   ]
  },
  {
   "cell_type": "markdown",
   "metadata": {},
   "source": [
    "Lastly, we should lower the learning rate and add more trees. Lets use the cv function of XGBoost to do\n",
    "the job again."
   ]
  },
  {
   "cell_type": "code",
   "execution_count": 15,
   "metadata": {},
   "outputs": [
    {
     "name": "stdout",
     "output_type": "stream",
     "text": [
      "\n",
      "Model Report\n",
      "Accuracy : 0.9854\n",
      "AUC Score (Train): 0.884128\n"
     ]
    },
    {
     "data": {
      "image/png": "[encoded data removed]",
      "text/plain": [
       "<matplotlib.figure.Figure at 0xb940d30>"
      ]
     },
     "metadata": {},
     "output_type": "display_data"
    }
   ],
   "source": [
    "xgb4 = XGBClassifier(\n",
    "    learning_rate =0.01,\n",
    "    n_estimators=5000,\n",
    "    max_depth=4,\n",
    "    min_child_weight=6,\n",
    "    gamma=0,\n",
    "    subsample=0.8,\n",
    "    colsample_bytree=0.8,\n",
    "    reg_alpha=0.005,\n",
    "    objective= 'binary:logistic',\n",
    "    nthread=4,\n",
    "    scale_pos_weight=1,\n",
    "    seed=27)\n",
    "\n",
    "modelfit(xgb4, train, predictors)"
   ]
  },
  {
   "cell_type": "markdown",
   "metadata": {},
   "source": [
    "Now we can see a significant boost in performance and the effect of parameter tuning is clearer."
   ]
  },
  {
   "cell_type": "markdown",
   "metadata": {},
   "source": [
    "## Conclusions"
   ]
  },
  {
   "cell_type": "markdown",
   "metadata": {},
   "source": [
    "As we come to the end, I would like to share 2 key thoughts:\n",
    "1. It is difficult to get a very big leap in performance by just using parameter tuning or slightly\n",
    "better models. The max score for GBM was 0.8487 while XGBoost gave 0.8494. This is a decent\n",
    "improvement but not something very substantial.\n",
    "2. A significant jump can be obtained by other methods like feature engineering, creating ensemble of\n",
    "models, stacking, etc"
   ]
  }
 ],
 "metadata": {
  "anaconda-cloud": {},
  "kernelspec": {
   "display_name": "Python 3",
   "language": "python",
   "name": "python3"
  },
  "language_info": {
   "codemirror_mode": {
    "name": "ipython",
    "version": 3
   },
   "file_extension": ".py",
   "mimetype": "text/x-python",
   "name": "python",
   "nbconvert_exporter": "python",
   "pygments_lexer": "ipython3",
   "version": "3.6.1"
  }
 },
 "nbformat": 4,
 "nbformat_minor": 2
}
